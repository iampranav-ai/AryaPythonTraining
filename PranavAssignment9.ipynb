{
 "cells": [
  {
   "cell_type": "markdown",
   "metadata": {},
   "source": [
    "# Assignment by Pranav Verma, CS 'B', 19EARCS085"
   ]
  },
  {
   "cell_type": "markdown",
   "metadata": {},
   "source": [
    "## Python Tasks – Day9"
   ]
  },
  {
   "cell_type": "markdown",
   "metadata": {},
   "source": [
    "### 1. Write a Python program to check whether a number is negative, positive or zero."
   ]
  },
  {
   "cell_type": "code",
   "execution_count": 1,
   "metadata": {},
   "outputs": [
    {
     "name": "stdout",
     "output_type": "stream",
     "text": [
      "The number is positive\n"
     ]
    }
   ],
   "source": [
    "num = int(input(\"Enter a number: \"))\n",
    "if num < 0:\n",
    "    print(\"The number is negative\")\n",
    "elif num > 0:\n",
    "    print(\"The number is positive\")\n",
    "else:\n",
    "    print(\"The number is zero\")\n",
    "\n"
   ]
  },
  {
   "cell_type": "markdown",
   "metadata": {},
   "source": [
    "### 2. Write a Python program to check whether a number is divisible by 5 and 11 or not."
   ]
  },
  {
   "cell_type": "code",
   "execution_count": 2,
   "metadata": {},
   "outputs": [
    {
     "name": "stdout",
     "output_type": "stream",
     "text": [
      "The number is not divisible by 5 and 11\n"
     ]
    }
   ],
   "source": [
    "num = int(input(\"Enter a number: \"))\n",
    "if num % 5 == 0 and num % 11 == 0:\n",
    "    print(\"The number is divisible by 5 and 11\")\n",
    "else:\n",
    "    print(\"The number is not divisible by 5 and 11\")\n"
   ]
  },
  {
   "cell_type": "markdown",
   "metadata": {},
   "source": [
    "### 3. Write a Python program to check whether a year is leap year or not."
   ]
  },
  {
   "cell_type": "code",
   "execution_count": 9,
   "metadata": {},
   "outputs": [
    {
     "name": "stdout",
     "output_type": "stream",
     "text": [
      "The year is leap year\n"
     ]
    }
   ],
   "source": [
    "year = int(input(\"Enter a year: \"))\n",
    "if year % 4 == 0 and year % 100 != 0 or year % 400 == 0:\n",
    "    print(\"The year is leap year\")\n",
    "else:\n",
    "    print(\"The year is not leap year\")\n"
   ]
  },
  {
   "cell_type": "markdown",
   "metadata": {},
   "source": [
    "### 4. Write a Python program to check whether a character is alphabet or not."
   ]
  },
  {
   "cell_type": "code",
   "execution_count": 1,
   "metadata": {},
   "outputs": [
    {
     "name": "stdout",
     "output_type": "stream",
     "text": [
      "The character is alphabet\n"
     ]
    }
   ],
   "source": [
    "char = input(\"Enter a character: \")\n",
    "if char.isalpha():\n",
    "    print(\"The character is alphabet\")  \n",
    "else:\n",
    "    print(\"The character is not alphabet\")\n"
   ]
  },
  {
   "cell_type": "markdown",
   "metadata": {},
   "source": [
    "### 5. Write a Python program to input any alphabet and check whether it is vowel or consonant."
   ]
  },
  {
   "cell_type": "code",
   "execution_count": 12,
   "metadata": {},
   "outputs": [
    {
     "name": "stdout",
     "output_type": "stream",
     "text": [
      "The character is vowel\n"
     ]
    }
   ],
   "source": [
    "char = input(\"Enter a character: \")\n",
    "if char == 'a' or char == 'e' or char == 'i' or char == 'o' or char == 'u':\n",
    "    print(\"The character is vowel\")\n",
    "else:\n",
    "    print(\"The character is consonant\")\n"
   ]
  },
  {
   "cell_type": "markdown",
   "metadata": {},
   "source": [
    "### 6. Write a Python program to input any character and check whether it is alphabet, digit or special character"
   ]
  },
  {
   "cell_type": "code",
   "execution_count": 18,
   "metadata": {},
   "outputs": [
    {
     "name": "stdout",
     "output_type": "stream",
     "text": [
      "The character is special character\n"
     ]
    }
   ],
   "source": [
    "char = input(\"Enter a character: \")\n",
    "if char.isalpha():\n",
    "    print(\"The character is alphabet\")\n",
    "elif char.isdigit():\n",
    "    print(\"The character is digit\")\n",
    "else:\n",
    "    print(\"The character is special character\")\n",
    "\n"
   ]
  },
  {
   "cell_type": "markdown",
   "metadata": {},
   "source": [
    "### 7. Write a Python program to check whether a character is uppercase or lowercase alphabet."
   ]
  },
  {
   "cell_type": "code",
   "execution_count": 21,
   "metadata": {},
   "outputs": [
    {
     "name": "stdout",
     "output_type": "stream",
     "text": [
      "The character is lowercase alphabet\n"
     ]
    }
   ],
   "source": [
    "char = input(\"Enter a character: \")\n",
    "if char.isupper():\n",
    "    print(\"The character is uppercase alphabet\")\n",
    "elif char.islower():\n",
    "    print(\"The character is lowercase alphabet\")\n",
    "else:\n",
    "    print(\"The character is not alphabet\")\n"
   ]
  },
  {
   "cell_type": "markdown",
   "metadata": {},
   "source": [
    "### 8. Write a Python program to input week number and print weekday."
   ]
  },
  {
   "cell_type": "code",
   "execution_count": 1,
   "metadata": {},
   "outputs": [
    {
     "name": "stdout",
     "output_type": "stream",
     "text": [
      "Friday\n"
     ]
    }
   ],
   "source": [
    "week = int(input(\"Enter a week number: \"))\n",
    "if week == 1:\n",
    "    print(\"Monday\")\n",
    "elif week == 2:\n",
    "    print(\"Tuesday\")    \n",
    "elif week == 3:\n",
    "    print(\"Wednesday\")\n",
    "elif week == 4:\n",
    "    print(\"Thursday\")\n",
    "elif week == 5:\n",
    "    print(\"Friday\")\n",
    "elif week == 6:\n",
    "    print(\"Saturday\")\n",
    "elif week == 7:\n",
    "    print(\"Sunday\")\n",
    "else:\n",
    "    print(\"Invalid week number\")\n"
   ]
  },
  {
   "cell_type": "markdown",
   "metadata": {},
   "source": [
    "### 9. Write a Python program to input angles of a triangle and check whether triangle is valid or not."
   ]
  },
  {
   "cell_type": "code",
   "execution_count": 25,
   "metadata": {},
   "outputs": [
    {
     "name": "stdout",
     "output_type": "stream",
     "text": [
      "Triangle is valid\n"
     ]
    }
   ],
   "source": [
    "angle1 = int(input(\"Enter angle 1: \"))\n",
    "angle2 = int(input(\"Enter angle 2: \"))\n",
    "angle3 = int(input(\"Enter angle 3: \"))\n",
    "if angle1 + angle2 + angle3 == 180:\n",
    "    print(\"Triangle is valid\")\n",
    "else:\n",
    "    print(\"Triangle is invalid\")\n"
   ]
  },
  {
   "cell_type": "markdown",
   "metadata": {},
   "source": [
    "### 10. Write a Python program to input all sides of a triangle and check whether triangle is valid or not."
   ]
  },
  {
   "cell_type": "code",
   "execution_count": 31,
   "metadata": {},
   "outputs": [
    {
     "name": "stdout",
     "output_type": "stream",
     "text": [
      "Triangle is valid\n"
     ]
    }
   ],
   "source": [
    "side1 = float(input(\"Enter side 1: \"))\n",
    "side2 = float(input(\"Enter side 2: \"))\n",
    "side3 = float(input(\"Enter side 3: \"))\n",
    "if side1 + side2 > side3 and side1 + side3 > side2 and side2 + side3 > side1:\n",
    "    print(\"Triangle is valid\")\n",
    "else:\n",
    "    print(\"Triangle is invalid\")\n"
   ]
  },
  {
   "cell_type": "markdown",
   "metadata": {},
   "source": [
    "### 11. Write a Python program to check whether the triangle is equilateral, isosceles or scalene triangle."
   ]
  },
  {
   "cell_type": "code",
   "execution_count": 1,
   "metadata": {},
   "outputs": [
    {
     "name": "stdout",
     "output_type": "stream",
     "text": [
      "Scalene triangle\n"
     ]
    }
   ],
   "source": [
    "side1 = float(input(\"Enter side 1: \"))\n",
    "side2 = float(input(\"Enter side 2: \"))\n",
    "side3 = float(input(\"Enter side 3: \"))\n",
    "if side1 + side2 > side3 and side1 + side3 > side2 and side2 + side3 > side1:\n",
    "    if side1 == side2 == side3:\n",
    "        print(\"Equilateral triangle\")\n",
    "    elif side1 == side2 or side1 == side3 or side2 == side3:\n",
    "        print(\"Isosceles triangle\")\n",
    "    else:\n",
    "        print(\"Scalene triangle\")\n",
    "else:\n",
    "    print(\"Invalid triangle\")"
   ]
  },
  {
   "cell_type": "markdown",
   "metadata": {},
   "source": [
    "### 12. Write a Python program to input marks of five subjects Physics, Chemistry, Biology, Mathematics and Computer. Calculate percentage and grade according to following:\n",
    "#### Percentage >= 90% : Grade A\n",
    "#### Percentage >= 80% : Grade B\n",
    "#### Percentage >= 70% : Grade C\n",
    "#### Percentage >= 60% : Grade D\n",
    "#### Percentage >= 40% : Grade E\n",
    "#### Percentage < 40% : Grade F"
   ]
  },
  {
   "cell_type": "code",
   "execution_count": 35,
   "metadata": {},
   "outputs": [
    {
     "name": "stdout",
     "output_type": "stream",
     "text": [
      "Grade B\n"
     ]
    }
   ],
   "source": [
    "marks = []\n",
    "for i in range(5):\n",
    "    marks.append(int(input(\"Enter marks: \")))\n",
    "total = sum(marks)\n",
    "percentage = total/5\n",
    "if percentage >= 90:\n",
    "    print(\"Grade A\")    \n",
    "elif percentage >= 80:\n",
    "    print(\"Grade B\")\n",
    "elif percentage >= 70:\n",
    "    print(\"Grade C\")\n",
    "elif percentage >= 60:\n",
    "    print(\"Grade D\")\n",
    "elif percentage >= 40:\n",
    "    print(\"Grade E\")\n",
    "elif percentage < 40:\n",
    "    print(\"Grade F\")\n",
    "elif percentage < 0:\n",
    "    print(\"Invalid\")\n",
    "    \n",
    "\n"
   ]
  },
  {
   "cell_type": "markdown",
   "metadata": {},
   "source": [
    "### 13. Write a Python program to input basic salary of an employee and calculate its Gross salary according to following:\n",
    "#### Basic Salary <= 10000 : HRA = 20%, DA = 80%\n",
    "#### Basic Salary <= 20000 : HRA = 25%, DA = 90%\n",
    "#### Basic Salary > 20000 : HRA = 30%, DA = 95%"
   ]
  },
  {
   "cell_type": "code",
   "execution_count": 2,
   "metadata": {},
   "outputs": [
    {
     "name": "stdout",
     "output_type": "stream",
     "text": [
      "Gross salary:  43000.0\n"
     ]
    }
   ],
   "source": [
    "salary = int(input(\"Enter salary: \"))\n",
    "if salary <= 10000:\n",
    "    hra = 20\n",
    "    da = 80\n",
    "elif salary <= 20000:\n",
    "    hra = 25\n",
    "    da = 90\n",
    "else:\n",
    "    hra = 30\n",
    "    da = 95\n",
    "gross_salary = salary + (salary * hra/100) + (salary * da/100)\n",
    "print(\"Gross salary: \", gross_salary)\n"
   ]
  },
  {
   "cell_type": "markdown",
   "metadata": {},
   "source": [
    "### 14. Write a Python Program to input electricity unit charges and calculate total electricity bill according to the given condition: \n",
    "#### For first 50 units Rs. 0.50/unit \n",
    "#### For next 100 units Rs. 0.75/unit \n",
    "#### For next 100 units Rs. 1.20/unit \n",
    "#### For unit above 250 Rs. 1.50/unit \n",
    "#### An additional surcharge of 20% is added to the bill"
   ]
  },
  {
   "cell_type": "code",
   "execution_count": 42,
   "metadata": {},
   "outputs": [
    {
     "name": "stdout",
     "output_type": "stream",
     "text": [
      "Total bill is:  717.6\n"
     ]
    }
   ],
   "source": [
    "input_unit = int(input(\"Enter the number of units: \"))\n",
    "first_50 = 50\n",
    "next_50_150 = 75\n",
    "next_150_250 = 120\n",
    "next_250 = 250\n",
    "additional_surcharge = 0.2\n",
    "next_100_unit = next_50_150 + next_150_250\n",
    "next_250_unit = next_250 + next_250\n",
    "\n",
    "total_bill = 0\n",
    "if input_unit <= first_50:\n",
    "    total_bill = input_unit * 0.5\n",
    "elif input_unit > first_50 and input_unit <= next_100_unit:\n",
    "    total_bill = first_50 * 0.5 + (input_unit - first_50) * 0.75\n",
    "elif input_unit > next_100_unit and input_unit <= next_250_unit:\n",
    "    total_bill = first_50 * 0.5 + next_50_150 * 0.75 + (input_unit - next_100_unit) * 1.2\n",
    "else:\n",
    "    total_bill = (50*0.5) + (100*0.75) + (100*1.20) + (input_unit - 250) * 1.50\n",
    "additional_surcharge = total_bill * additional_surcharge\n",
    "total_bill = total_bill + additional_surcharge\n",
    "\n",
    "print(\"Total bill is: \", total_bill)\n"
   ]
  },
  {
   "cell_type": "code",
   "execution_count": 6,
   "metadata": {},
   "outputs": [
    {
     "name": "stdout",
     "output_type": "stream",
     "text": [
      "o\n",
      "o\n",
      "o\n",
      "o\n",
      "o\n"
     ]
    }
   ],
   "source": [
    "s = \"hello\"\n",
    "\n",
    "while s:\n",
    "    print(s[-1])\n",
    "    s = s[1:]"
   ]
  },
  {
   "cell_type": "code",
   "execution_count": 7,
   "metadata": {},
   "outputs": [
    {
     "name": "stdout",
     "output_type": "stream",
     "text": [
      "h\n",
      "e\n",
      "l\n",
      "l\n",
      "o\n"
     ]
    },
    {
     "ename": "IndexError",
     "evalue": "string index out of range",
     "output_type": "error",
     "traceback": [
      "\u001b[1;31m---------------------------------------------------------------------------\u001b[0m",
      "\u001b[1;31mIndexError\u001b[0m                                Traceback (most recent call last)",
      "\u001b[1;32m~\\AppData\\Local\\Temp/ipykernel_17372/3792293717.py\u001b[0m in \u001b[0;36m<module>\u001b[1;34m\u001b[0m\n\u001b[0;32m      3\u001b[0m \u001b[0mi\u001b[0m \u001b[1;33m=\u001b[0m \u001b[1;36m0\u001b[0m\u001b[1;33m\u001b[0m\u001b[1;33m\u001b[0m\u001b[0m\n\u001b[0;32m      4\u001b[0m \u001b[1;32mwhile\u001b[0m \u001b[0mi\u001b[0m \u001b[1;33m<=\u001b[0m \u001b[0mn\u001b[0m\u001b[1;33m:\u001b[0m\u001b[1;33m\u001b[0m\u001b[1;33m\u001b[0m\u001b[0m\n\u001b[1;32m----> 5\u001b[1;33m     \u001b[0mprint\u001b[0m\u001b[1;33m(\u001b[0m\u001b[0ms\u001b[0m\u001b[1;33m[\u001b[0m\u001b[0mi\u001b[0m\u001b[1;33m]\u001b[0m\u001b[1;33m)\u001b[0m\u001b[1;33m\u001b[0m\u001b[1;33m\u001b[0m\u001b[0m\n\u001b[0m\u001b[0;32m      6\u001b[0m     \u001b[0mi\u001b[0m \u001b[1;33m=\u001b[0m \u001b[0mi\u001b[0m\u001b[1;33m+\u001b[0m\u001b[1;36m1\u001b[0m\u001b[1;33m\u001b[0m\u001b[1;33m\u001b[0m\u001b[0m\n",
      "\u001b[1;31mIndexError\u001b[0m: string index out of range"
     ]
    }
   ],
   "source": [
    "s = \"hello\"\n",
    "n = len(s)\n",
    "i = 0\n",
    "while i < n:\n",
    "    print(s[i])\n",
    "    i = i+1"
   ]
  },
  {
   "cell_type": "code",
   "execution_count": null,
   "metadata": {},
   "outputs": [],
   "source": [
    "str = input(\"Enter a string: \")\n",
    "if char == 'a' or char == 'e' or char == 'i' or char == 'o' or char == 'u':\n",
    "    print(\"Yes \")\n",
    "else:\n",
    "    print('No')\n",
    "\n"
   ]
  },
  {
   "cell_type": "code",
   "execution_count": 3,
   "metadata": {},
   "outputs": [
    {
     "name": "stdout",
     "output_type": "stream",
     "text": [
      "Armstrong number\n"
     ]
    }
   ],
   "source": [
    "#  Python Program to Check Armstrong Number\n",
    "r = int(input(\"Enter a number: \"))\n",
    "sum = 0\n",
    "temp = r\n",
    "while temp > 0:\n",
    "    digit = temp % 10\n",
    "    sum += digit ** 3\n",
    "    temp //= 10\n",
    "if r == sum:\n",
    "    print(\"Armstrong number\")\n",
    "else:\n",
    "    print(\"Not an Armstrong number\")\n"
   ]
  }
 ],
 "metadata": {
  "interpreter": {
   "hash": "37b96a332ca86861452641a796f8323cf7e5599203728344f4a46e0e189b6746"
  },
  "kernelspec": {
   "display_name": "Python 3.8.7 64-bit",
   "language": "python",
   "name": "python3"
  },
  "language_info": {
   "codemirror_mode": {
    "name": "ipython",
    "version": 3
   },
   "file_extension": ".py",
   "mimetype": "text/x-python",
   "name": "python",
   "nbconvert_exporter": "python",
   "pygments_lexer": "ipython3",
   "version": "3.8.7"
  },
  "orig_nbformat": 4
 },
 "nbformat": 4,
 "nbformat_minor": 2
}
